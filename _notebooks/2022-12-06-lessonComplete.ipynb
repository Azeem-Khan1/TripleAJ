{
 "cells": [
  {
   "cell_type": "markdown",
   "metadata": {},
   "source": [
    "# 3.9 and 3.11 Lesson\n",
    "> Interactive lesson covering content from Collegeboard 3.9 and 3.11 made by students for students\n",
    "\n",
    "- layout: default\n",
    "- toc: true\n",
    "- badges: false\n",
    "- comments: true\n",
    "- permalink: /Lesson\n",
    "- categories: [lesson]"
   ]
  },
  {
   "cell_type": "markdown",
   "metadata": {},
   "source": [
    "# First Things First: WGET\n",
    "\n",
    "- wget allows you to essentially clone someone elses file on Github into a directory of your choosing\n",
    "    - You are able to edit your own copy of the file without affecting the original\n",
    "\n",
    "## Here's a quick how-to\n",
    "\n",
    "1. Open your VSCode terminal (`Terminal > New Terminal`)\n",
    "\n",
    "2. Navigate to your Fastpages Blog using `cd`\n",
    "\n",
    "3. Navigate to the `_notebooks` directory in your Fastpages\n",
    "\n",
    "4. Copy and paste this into the terminal: **wget https://raw.githubusercontent.com/Azeem-Khan1/TripleAJ/master/_notebooks/2022-12-06-lessonComplete.ipynb**\n",
    "\n",
    "5. You're all set! you can use this copy of our notebook to help you take notes and participate during the lesson\n",
    "\n",
    "    - Please raise your hand if you are having trouble with wget and we will come around and help you\n",
    "\n",
    "- Note: if you have a separate notebook that you take notes on and you also want to do your practice in that notebook, you can copy and paste cells from this notebook by left clicking next to any markdown or code cell (indicating that it is selected), do ctl+c or cmd+c, and go to the desired notebook and do ctl+v or cmd+v (if that doesn't work, try just c and v with no ctl or cmd)"
   ]
  },
  {
   "cell_type": "markdown",
   "metadata": {},
   "source": [
    "## 3.9 Developing Algorithms\n",
    "\n",
    "## Lesson \n",
    "\n",
    "The lesson will start off with introducing what algorithms are and what they do, moreover, what their significance is. \n",
    "\n",
    "3.9 Lesson 1 has the objective to teach the student of the outcome of similar algorithmic concepts and similar algorithms. In this lesson, you will see different ways on how algorithms are developed.\n",
    "\n",
    "Lesson created by Akshat P.\n",
    "\n",
    "## Lesson 1 | Defining Algorithms \n",
    "\n",
    "What is an algorithm?\n",
    "An algorithm is a process or set of rules to be followed through CODE. There are set limitations, this is what makes algorithms fun, you can your imagination and create whatever you wan with your own instructions!\n",
    "\n",
    "- Algorithms can be written in different ways and still accomplish the same tasks\n",
    "\n",
    "- Algorithms that appear similar can yield different side effects or results.\n",
    "\n",
    "- Some conditional statements can be written as the same as Boolean expressions (VICE VERSA)\n",
    "\n",
    "- Different algorithms can be developed or use to solve the same problem. \n",
    "\n",
    "## Example 1 | What happens if we test the algorithm with different outputs?"
   ]
  },
  {
   "cell_type": "markdown",
   "metadata": {},
   "source": [
    "![f](../images/lesson1.png)\n",
    "\n",
    "The pseudocode above is translated to python for you. \n",
    "\n",
    "Record what your outputs are when you enter 95 degrees F, does the algorithm yield the same result?"
   ]
  },
  {
   "cell_type": "markdown",
   "metadata": {},
   "source": [
    "The conditional below is nested"
   ]
  },
  {
   "cell_type": "code",
   "execution_count": null,
   "metadata": {},
   "outputs": [],
   "source": [
    "temp = int(input(\"Select a temperature from 0 to 99 degrees F\"))\n",
    "if (temp >= 90):\n",
    "    print(\"It's too hot outside!\")\n",
    "else:\n",
    "    if (temp >= 65):\n",
    "        print(\"Sure I will play outside!\")\n",
    "    else: \n",
    "        print(\"It is too cold outside!\")\n",
    "    # Input 95 for the first 2 blocks first, record outputs for 95, then Input 54, what do you notice?"
   ]
  },
  {
   "cell_type": "code",
   "execution_count": null,
   "metadata": {},
   "outputs": [],
   "source": [
    "temp = int(input(\"Select a temperature from 0 to 99 degrees F\"))\n",
    "if (temp >= 90):\n",
    "    print(\"It's too hot outside!\")\n",
    "if (temp >= 65):\n",
    "    print(\"Sure I will play outside!\")\n",
    "if (temp < 65):\n",
    "    print(\"It is too cold outside!\")\n",
    "    # Input 95 for the first 2 blocks first, record outputs for 95, then Input 54, what do you notice?"
   ]
  },
  {
   "cell_type": "markdown",
   "metadata": {},
   "source": [
    "## NOW RECORD with another output\n",
    "Record what your outputs are when you enter 54, does the algorithm yield the same result this time?\n",
    "\n",
    "*Now use 54 as an input for the two code blocks above."
   ]
  },
  {
   "cell_type": "markdown",
   "metadata": {},
   "source": [
    "Even though an algorithm's code can look the same, you have to be careful, they can always yield different results. When constructing algorithms you want to make sure that your code corresponds with what you want as your output. You set the limit of your code and you decide what the code's output is. "
   ]
  },
  {
   "cell_type": "markdown",
   "metadata": {},
   "source": [
    "# Conditionals vs. Booleans\n",
    "\n",
    "The condition and instructions are what differ, that's where the magic happens. The condition is a boolean expression when an expression outputs either true or false. Boolean values are another type of data type in programming languages, and they can only ever hold true or false. "
   ]
  },
  {
   "cell_type": "markdown",
   "metadata": {},
   "source": [
    "## Exercise \n",
    "\n",
    "Learning how to utilize conditionals and booleans are important for developing algorithms. Use this exercise to help you. \n",
    "\n",
    "Can either Boolean expression on the right replace the conditional on the left? Assume isWeekday and isHoliday are Boolean variables.\n",
    "\n",
    "![f](../images/lesson13.png)"
   ]
  },
  {
   "cell_type": "markdown",
   "metadata": {},
   "source": [
    "*NOTE = you can edit the variables to check the conditions needed!"
   ]
  },
  {
   "cell_type": "code",
   "execution_count": null,
   "metadata": {},
   "outputs": [],
   "source": [
    "IsHoliday = False\n",
    "IsWeekday = True\n",
    "if IsHoliday:\n",
    "    driveWork = True\n",
    "else: \n",
    "    if IsWeekday: \n",
    "        driveWork = True\n",
    "    else: \n",
    "        driveWork = False\n",
    "print(driveWork)"
   ]
  },
  {
   "cell_type": "markdown",
   "metadata": {},
   "source": [
    "## Logically thinking about conditionals and booleans\n",
    "\n",
    "Now the problem may seem confusing, but the best way to develop an algorithm is to think about all the possible results that can be potentially be outputted. \n",
    "\n",
    "So if IsHoliday is set to true, then driveWork is automatically equal to false and it does not matter what value of isWeekday is. This must mean that one of the conditionals must be NOT IsHoliday. \n",
    "\n",
    "In the case that lets say IsHoliday is set to false, then the variable for weekday needs to be checked. If it's true then driveWork is true, if it's false then driveWork is false. This must mean that the other conditional isWeekday. \n",
    "\n",
    "Combining both conditionals, you get option 2, which is not IsHoliday and IsWeekday. This is why option 2 is right!\n",
    "\n",
    "![f](../images/lesson14.png)"
   ]
  },
  {
   "cell_type": "markdown",
   "metadata": {},
   "source": [
    "## Example 3 | Conditionals vs Booleans"
   ]
  },
  {
   "cell_type": "markdown",
   "metadata": {},
   "source": [
    "The following algorithms are intended to sum the odd numbers from 1-9. Which algorithms work as intended?\n",
    "\n",
    "![f](../images/lesson9.png)"
   ]
  },
  {
   "cell_type": "markdown",
   "metadata": {},
   "source": [
    "Below, I have translated the block code into python, import this to your jupyter notebook and record the result. What do you notice?"
   ]
  },
  {
   "cell_type": "markdown",
   "metadata": {},
   "source": [
    "## First block"
   ]
  },
  {
   "cell_type": "code",
   "execution_count": 31,
   "metadata": {},
   "outputs": [
    {
     "name": "stdout",
     "output_type": "stream",
     "text": [
      "25\n"
     ]
    }
   ],
   "source": [
    "sum = 1\n",
    "counter = 3\n",
    "#iteration\n",
    "var = 0 \n",
    "while (var < 4): #while the var is <= 4, it executes those commands, once it exceeds it hits the else command\n",
    "    sum = sum + counter\n",
    "    counter = counter + 2\n",
    "    var = var + 1\n",
    "    # now go through the whole thing 4 times, this is an iteration, a vital part of algorithms.\n",
    "else:\n",
    "    print(sum)\n",
    "\n"
   ]
  },
  {
   "cell_type": "markdown",
   "metadata": {},
   "source": [
    "## Second block"
   ]
  },
  {
   "cell_type": "code",
   "execution_count": 50,
   "metadata": {},
   "outputs": [
    {
     "name": "stdout",
     "output_type": "stream",
     "text": [
      "25\n"
     ]
    }
   ],
   "source": [
    "sum = 0\n",
    "counter = 9\n",
    "#iteration\n",
    "while (counter >= 1): \n",
    "    sum = sum + counter\n",
    "    counter = counter - 2\n",
    "print(sum)"
   ]
  },
  {
   "cell_type": "markdown",
   "metadata": {},
   "source": [
    "When we start our initializing left sum as 1 counter as 3 we had no iterations yet. Remember we're going to have to repeat this four times because the block code prompts us to repeat 4 times, so we iterate. So as we go through and follow what the block gives us.\n",
    "\n",
    "![f](../images/lesson10.png)\n",
    "\n",
    "So you see that the sum does work, it does sum up the odd numbers from 1-9\n"
   ]
  },
  {
   "cell_type": "markdown",
   "metadata": {},
   "source": [
    "Now lets look at the right block. \n",
    "\n",
    "Sum is set to 0\n",
    "Counter is set to 9\n",
    "We must repeat until the counter < 1 is true.\n",
    "\n",
    "So we keep adding until -1, that is when the counter < 1 is true, so we stop\n",
    "\n",
    "![f](../images/lesson12.png)\n",
    "\n",
    "So why is it important to understand that algorithms can be written in different ways and still accomplish the same task?\n"
   ]
  },
  {
   "cell_type": "markdown",
   "metadata": {},
   "source": [
    "An algorithm is beautiful that way, just because you think of solving a problem differently, doesn't mean your wrong, "
   ]
  },
  {
   "cell_type": "markdown",
   "metadata": {},
   "source": [
    "## Flowcharts (START OF AZEEM'S SECTION)\n",
    "- Flowcharts can help you visualize the functionality of an algorithm\n",
    "\n",
    "- They are a good way to double check whether or not your algorithm is achieving its purpose\n",
    "\n",
    "\n",
    "### How To Set Up A Flowchart\n",
    "1. label the start point\n",
    "\n",
    "2. Define any and all variables you may need\n",
    "\n",
    "3. Consider the first question you want the algorithm to ask\n",
    "\n",
    "4. Write what you want the algorithm to do if the answer to that question is yes (or true)\n",
    "\n",
    "5. Write what you want the algorithm to do if the answer to that question is no (or false)\n",
    "\n",
    "    * Steps 3-5 are the steps to creating code that uses a process called selection (you can convert the question from step 3 to a conditional if-statement in code)\n",
    "    <br>\n",
    "    <br>\n",
    "6. Write out all necessary steps for the algorithm to function properly\n",
    "\n",
    "7. You may want your algorithm to iterate some steps until a condition is met\n",
    "\n",
    "    * You can write the steps that need to be repeated, then draw an arrow from the last step to a step above that contains a conditional statement (*See [Example B](https://azeem-khan1.github.io/TripleAJ/Lesson#Example-B)*)\n",
    "    <br>\n",
    "    <br>\n",
    "8. determine a way to reach the end goal\n",
    "\n",
    "\n",
    "## Selection vs. Iteration\n",
    "\n",
    "- Selection:\n",
    "\n",
    "    - A process used in algorithms where a conditional if-statement leads to one of two outcomes\n",
    "        \n",
    "        - Outcome 1: if the conditional statement is true, something will happen\n",
    "        \n",
    "        - Outcome 2: if the conditional statement is false, something else will happen\n",
    "\n",
    "        - Ex: see [Example A](https://azeem-khan1.github.io/TripleAJ/Lesson#Example-A)\n",
    "\n",
    "- Iteration\n",
    "\n",
    "    - A process used in algorithms that allows certain things to happen until a condition is satisfied\n",
    "\n",
    "        - Once the condition is satisfied, then an outcome is produced\n",
    "\n",
    "        - This can take the form of a for-loop, while-loop, and/or if-statement\n",
    "\n",
    "\n",
    "## Example A\n",
    "- Consider this situation:\n",
    "\n",
    "    - You are shopping for your favorite food at your favorite supermarket\n",
    "\n",
    "    - You see that there is a sale on wheat products for 35% off\n",
    "    \n",
    "    - There is another sale on produce for 20% off\n",
    "    \n",
    "    - These sales are mutually exclusive\n",
    "    \n",
    "    - Tax on all items is 8%\n",
    "\n",
    "- Your TASK:\n",
    "\n",
    "    - Create a flowchart for an algorithm that can be used to calculate the cost of your favorite item\n",
    "\n",
    "\n",
    "## Example A Possible Solution (using Selection)\n",
    "\n",
    "\n",
    "![Flowchart for Example A](../images/3-9Lesson2ExampleAFlowchart.png)\n",
    "\n",
    "\n",
    "## Example B\n",
    "\n",
    "\n",
    "\n"
   ]
  },
  {
   "cell_type": "markdown",
   "metadata": {},
   "source": [
    "## Homework Assignment (DUE WEDNESDAY 12/09 BY 5:00 PM)\n",
    "\n",
    "- Consider this situation:\n",
    "\n",
    "    - You're playing a short game using a random number generator from 1 to 20\n",
    "\n",
    "        - On each turn, a player will generate 3 random numbers\n",
    "\n",
    "        - They get to keep the highest number that they generate as their score\n",
    "\n",
    "\n",
    "### Your TASK:\n",
    "    \n",
    "1. Create a flowchart that can be used to write an algorithm that determines if a player wins or loses the game\n",
    "\n",
    "    - NOTE: Don't forget the [syntax for Flowcharts](https://wcs.smartdraw.com/flowchart/img/basic-symbols-table.jpg?bn=15100111857)! (each shape represents an action)\n",
    "\n",
    "    - Try to implement selection and/or iteration in your algorithm\n",
    "\n",
    "    - Please do this using Google Drawing. It can be found in your Google Drive if you click `New > More > Google Drawings`\n",
    "\n",
    "\n",
    "2. Write the working algorithm in Python\n",
    "\n",
    "    - Make sure to initialize / define any variables you may need\n",
    "\n",
    "    - Add comments to your code\n",
    "\n",
    "\n",
    "### How to submit:\n",
    "\n",
    "1. Make a shareable link to your Flowchart with commenting access through Google Drive's \"Share\" feature\n",
    "\n",
    "2. Make a comment with the link at the top of the code block that holds your algorithm (use `#` for comments in Python)\n",
    "\n",
    "3. Submit a link to your algorithm (with the commented link to Flowchart) [here](hwSubmission)\n",
    "\n",
    "### Grading\n",
    "\n",
    "- DUE WEDNESDAY 12/09 BY 5:00 PM\n",
    "\n",
    "- LATE PENALTY: -0.2\n",
    "\n",
    "- You will be graded based on:\n",
    "\n",
    "    - how functional your algorithm is\n",
    "\n",
    "    - how well your Flowchart is organized\n",
    "\n",
    "    If something comes us, please feel free to DM us on Slack"
   ]
  }
 ],
 "metadata": {
  "kernelspec": {
   "display_name": "Python 3.8.10 64-bit",
   "language": "python",
   "name": "python3"
  },
  "language_info": {
   "codemirror_mode": {
    "name": "ipython",
    "version": 3
   },
   "file_extension": ".py",
   "mimetype": "text/x-python",
   "name": "python",
   "nbconvert_exporter": "python",
   "pygments_lexer": "ipython3",
   "version": "3.8.10"
  },
  "orig_nbformat": 4,
  "vscode": {
   "interpreter": {
    "hash": "916dbcbb3f70747c44a77c7bcd40155683ae19c65e1c03b4aa3499c5328201f1"
   }
  }
 },
 "nbformat": 4,
 "nbformat_minor": 2
}
