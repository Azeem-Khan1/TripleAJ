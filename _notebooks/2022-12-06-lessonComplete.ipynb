{
 "cells": [
  {
   "cell_type": "markdown",
   "metadata": {},
   "source": [
    "# 3.9 and 3.11 Lesson\n",
    "> Interactive lesson covering content from Collegeboard 3.9 and 3.11 made by students for students\n",
    "\n",
    "- layout: default\n",
    "- toc: true\n",
    "- badges: false\n",
    "- comments: true\n",
    "- permalink: /Lesson\n",
    "- categories: [lesson]"
   ]
  },
  {
   "cell_type": "markdown",
   "metadata": {},
   "source": [
    "# First Things First: WGET\n",
    "\n",
    "- wget allows you to essentially clone someone elses file on Github into a directory of your choosing\n",
    "    - You are able to edit your own copy of the file without affecting the original\n",
    "\n",
    "## Here's a quick how-to\n",
    "\n",
    "1. Open your VSCode terminal (`Terminal > New Terminal`)\n",
    "\n",
    "2. Navigate to your Fastpages Blog using `cd`\n",
    "\n",
    "3. Navigate to the `_notebooks` directory in your Fastpages\n",
    "\n",
    "4. Copy and paste this into the terminal: **wget https://raw.githubusercontent.com/Azeem-Khan1/TripleAJ/master/_notebooks/2022-12-06-lessonComplete.ipynb**\n",
    "\n",
    "5. You're all set! you can use this copy of our notebook to help you take notes and participate during the lesson\n",
    "\n",
    "    - Please raise your hand if you are having trouble with wget and we will come around and help you\n",
    "\n",
    "- Note: if you have a separate notebook that you take notes on and you also want to do your practice in that notebook, you can copy and paste cells from this notebook by left clicking next to any markdown or code cell (indicating that it is selected), do ctl+c or cmd+c, and go to the desired notebook and do ctl+v or cmd+v (if that doesn't work, try just c and v with no ctl or cmd)"
   ]
  },
  {
   "cell_type": "markdown",
   "metadata": {},
   "source": [
    "# 3.9 Developing Algorithms\n",
    "\n",
    "\n",
    "\n",
    "> AKSHAT PUT YOUR STUFF BETWEEN HERE AND THE NEXT SECTION ABOUT \"FLOWCHARTS\""
   ]
  },
  {
   "cell_type": "markdown",
   "metadata": {},
   "source": [
    "## Flowcharts (START OF AZEEM'S SECTION)\n",
    "- Flowcharts can help you visualize the functionality of an algorithm\n",
    "\n",
    "- They are a good way to double check whether or not your algorithm is achieving its purpose\n",
    "\n",
    "\n",
    "### How To Set Up A Flowchart\n",
    "1. label the start point\n",
    "\n",
    "2. Define any and all variables you may need\n",
    "\n",
    "3. Consider the first question you want the algorithm to ask\n",
    "\n",
    "4. Write what you want the algorithm to do if the answer to that question is yes (or true)\n",
    "\n",
    "5. Write what you want the algorithm to do if the answer to that question is no (or false)\n",
    "\n",
    "    * Steps 3-5 are the steps to creating code that uses a process called selection (you can convert the question from step 3 to a conditional if-statement in code)\n",
    "    <br>\n",
    "    <br>\n",
    "6. Write out all necessary steps for the algorithm to function properly\n",
    "\n",
    "7. You may want your algorithm to iterate some steps until a condition is met\n",
    "\n",
    "    * You can write the steps that need to be repeated, then draw an arrow from the last step to a step above that contains a conditional statement (*See [Example B](https://azeem-khan1.github.io/TripleAJ/Lesson#Example-B)*)\n",
    "    <br>\n",
    "    <br>\n",
    "8. determine a way to reach the end goal\n",
    "\n",
    "\n",
    "## Selection vs. Iteration\n",
    "\n",
    "- Selection:\n",
    "\n",
    "    - A process used in algorithms where a conditional if-statement leads to one of two outcomes\n",
    "        \n",
    "        - Outcome 1: if the conditional statement is true, something will happen\n",
    "        \n",
    "        - Outcome 2: if the conditional statement is false, something else will happen\n",
    "\n",
    "        - Ex: see [Example A](https://azeem-khan1.github.io/TripleAJ/Lesson#Example-A)\n",
    "\n",
    "- Iteration\n",
    "\n",
    "    - A process used in algorithms that allows certain things to happen until a condition is satisfied\n",
    "\n",
    "        - Once the condition is satisfied, then an outcome is produced\n",
    "\n",
    "        - This can take the form of a for-loop, while-loop, and/or if-statement\n",
    "\n",
    "\n",
    "## Example A\n",
    "- Consider this situation:\n",
    "\n",
    "    - You are shopping for your favorite food at your favorite supermarket\n",
    "\n",
    "    - You see that there is a sale on wheat products for 35% off\n",
    "    \n",
    "    - There is another sale on produce for 20% off\n",
    "    \n",
    "    - These sales are mutually exclusive\n",
    "    \n",
    "    - Tax on all items is 8%\n",
    "\n",
    "- Your TASK:\n",
    "\n",
    "    - Create a flowchart for an algorithm that can be used to calculate the cost of your favorite item\n",
    "\n",
    "\n",
    "## Example A Possible Solution (using Selection)\n",
    "\n",
    "\n",
    "![Flowchart for Example A](../images/3-9Lesson2ExampleAFlowchart.png)\n",
    "\n",
    "\n",
    "## Example B\n",
    "\n",
    "\n",
    "\n"
   ]
  },
  {
   "cell_type": "markdown",
   "metadata": {},
   "source": [
    "\n",
    "# Week 9 Lesson 3 Developing Algorithms\n",
    "\n",
    "## \"What Will we Learn in this Lesson?\"\n",
    "\n",
    " - For Algorithms\n",
    "    - How to combine and/or modify an existing algorithm.\n",
    "\n",
    "- Benefits of combining algorithms\n",
    "    - can reduce development time, testing time, and simplify the identification of errors.\n",
    "\n",
    "# Example in Class\n",
    "\n",
    "![Collatz Conjecture](../images/CollatzConjecture.jpeg)\n",
    "\n",
    "## Rules\n",
    "\n",
    "- step/rule 1: start with any positive integer\n",
    "- step/rule 2: if the preceding term is even; divide by 2\n",
    "- step/rule 3: if the preceding term is odd; multiply by 3 and add 1\n",
    "- step/rule 4: repeat steps until you arrive at 1\n",
    "- fact: the sequence should ALWAYS end up at 1 if repeated.\n",
    "\n",
    "## Algorithm to Start (Determining Whether a Number is Even or Odd);\n"
   ]
  },
  {
   "cell_type": "code",
   "execution_count": 3,
   "metadata": {},
   "outputs": [
    {
     "name": "stdout",
     "output_type": "stream",
     "text": [
      "choose value for x\n",
      "the number is even\n"
     ]
    }
   ],
   "source": [
    "print(\"choose value for x\")\n",
    "\n",
    "varx=int(input(\"Enter any positive Integer\"))\n",
    "\n",
    "if (varx %2 == 0):\n",
    "    print(\"the number is even\")\n",
    "\n",
    "else:\n",
    "    print(\"the number is odd\")\n"
   ]
  },
  {
   "cell_type": "markdown",
   "metadata": {},
   "source": [
    "## how can we modify this code to match our goal\n",
    "\n",
    "- Hint: uses arithmetic operations\n",
    "- Hint: look at the steps of the equation and try and modify it to fit them\n",
    "- Must display all numbers used in it\n",
    "\n",
    "# Solution\n",
    "\n",
    "## Step 1"
   ]
  },
  {
   "cell_type": "code",
   "execution_count": 7,
   "metadata": {},
   "outputs": [
    {
     "name": "stdout",
     "output_type": "stream",
     "text": [
      "choose value for x\n",
      "2\n"
     ]
    }
   ],
   "source": [
    "print(\"choose value for x\")\n",
    "\n",
    "varx=int(input(\"Enter any positive Integer\"))\n",
    "\n",
    "if (varx %2 == 0):\n",
    "     varx == varx/2       # Change print to the function\n",
    "\n",
    "else:\n",
    "    varx == varx * 3 + 1      # Change print to the function\n",
    "\n",
    "print(varx)\n"
   ]
  },
  {
   "cell_type": "markdown",
   "metadata": {},
   "source": [
    "## Step 2\n",
    "- step/rule 4; here we add the loop\n"
   ]
  },
  {
   "cell_type": "code",
   "execution_count": 17,
   "metadata": {},
   "outputs": [
    {
     "name": "stdout",
     "output_type": "stream",
     "text": [
      "choose value for x\n",
      "1.0\n"
     ]
    }
   ],
   "source": [
    "print(\"choose value for x\")\n",
    "\n",
    "varx=int(input(\"Enter any positive Integer\"))\n",
    "\n",
    "while varx != 1:\n",
    "\n",
    "    if (varx %2 == 0):\n",
    "        varx = varx/2       # Change print to the function\n",
    "\n",
    "    else:\n",
    "        varx = varx * 3 + 1      # Change print to the function\n",
    "\n",
    "print(varx)"
   ]
  },
  {
   "cell_type": "markdown",
   "metadata": {},
   "source": [
    "## Step 3\n",
    "- Display all values throughout the algorithm"
   ]
  },
  {
   "cell_type": "code",
   "execution_count": 18,
   "metadata": {},
   "outputs": [
    {
     "name": "stdout",
     "output_type": "stream",
     "text": [
      "choose value for x\n",
      "3\n",
      "10\n",
      "5.0\n",
      "16.0\n",
      "8.0\n",
      "4.0\n",
      "2.0\n",
      "1.0\n",
      "1.0\n"
     ]
    }
   ],
   "source": [
    "print(\"choose value for x\")\n",
    "\n",
    "varx=int(input(\"Enter any positive Integer\"))\n",
    "\n",
    "print(varx)\n",
    "while varx != 1:\n",
    "\n",
    "    if (varx %2 == 0):\n",
    "        varx = varx/2       \n",
    "        print(varx)               # add Display\n",
    "    else:\n",
    "        varx = varx * 3 + 1      \n",
    "        print(varx)               # add Display\n",
    "print(varx)                       # Final # Should be 1 every time"
   ]
  },
  {
   "cell_type": "markdown",
   "metadata": {},
   "source": [
    "## Takeaways\n",
    "\n",
    "- You can use code you've previously wrote in order to make a project easier.\n",
    "- Breaking algorithms down into steps can make things easier and more simple.\n",
    "\n",
    "# Hacks\n",
    "\n",
    "- create another algorithm using a famous mathematical algorithm such as the \"collatz conjecture.\" and explain your steps in a post on a blog."
   ]
  },
  {
   "cell_type": "markdown",
   "metadata": {},
   "source": [
    "## Homework Assignment (DUE WEDNESDAY 12/07 BY 8:00 PM)\n",
    "\n",
    "- Consider this situation:\n",
    "\n",
    "    - You're playing a short game using a random number generator from 1 to 10\n",
    "\n",
    "        - Each person will generate 3 random numbers\n",
    "\n",
    "        - Whoever's numbers have the highest sum (or score) wins (add up the three numbers)\n",
    "\n",
    "            - If there is a draw, generate 3 new numbers until someone wins\n",
    "            <br>\n",
    "\n",
    "### Your TASK:\n",
    "    \n",
    "1. Create a flowchart that can be used to write an algorithm that determines if a player wins or loses the game\n",
    "\n",
    "    - NOTE: Don't forget the [syntax for Flowcharts](https://wcs.smartdraw.com/flowchart/img/basic-symbols-table.jpg?bn=15100111857)! (each shape represents an action)\n",
    "\n",
    "    - Try to implement selection and/or iteration in your algorithm\n",
    "\n",
    "    - Please do this using Google Drawing. It can be found in your Google Drive if you click `New > More > Google Drawings`\n",
    "\n",
    "\n",
    "2. Write the working algorithm in Python\n",
    "\n",
    "    - You may use the template code block provided below\n",
    "\n",
    "    - Make sure to initialize / define any variables you may need\n",
    "\n",
    "    - Use hypothetical numbers if necessary (make comments)\n",
    "\n",
    "### How to submit:\n",
    "\n",
    "1. Make a shareable link to your Flowchart with commenting access through Google Drive's \"Share\" feature\n",
    "\n",
    "2. Make a comment with the link at the top of the code block that holds your algorithm (use `#` for comments in Python)\n",
    "\n",
    "3. Submit a link to your algorithm (with the commented link to Flowchart) [here](hwSubmission)\n",
    "\n",
    "### Grading\n",
    "\n",
    "- DUE WEDNESDAY 12/07 BY 8:00 PM\n",
    "\n",
    "- LATE PENALTY: -0.1\n",
    "\n",
    "- You will be graded based on:\n",
    "\n",
    "    - how functional your algorithm is\n",
    "\n",
    "    - how well your Flowchart is organized"
   ]
  },
  {
   "cell_type": "code",
   "execution_count": null,
   "metadata": {},
   "outputs": [],
   "source": [
    "# You can use this template to write your algorithm"
   ]
  }
 ],
 "metadata": {
  "kernelspec": {
   "display_name": "Python 3.9.12 ('base')",
   "language": "python",
   "name": "python3"
  },
  "language_info": {
   "codemirror_mode": {
    "name": "ipython",
    "version": 3
   },
   "file_extension": ".py",
   "mimetype": "text/x-python",
   "name": "python",
   "nbconvert_exporter": "python",
   "pygments_lexer": "ipython3",
   "version": "3.9.12"
  },
  "orig_nbformat": 4,
  "vscode": {
   "interpreter": {
    "hash": "fa0fc083a9a7b25dab36cbe71fb89b2f1907d4eced1698b208dea6977346b521"
   }
  }
 },
 "nbformat": 4,
 "nbformat_minor": 2
}
