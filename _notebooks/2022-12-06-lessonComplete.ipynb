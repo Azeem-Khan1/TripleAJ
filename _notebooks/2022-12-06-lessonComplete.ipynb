{
 "cells": [
  {
   "cell_type": "markdown",
   "metadata": {},
   "source": [
    "# 3.9 and 3.11 Lesson\n",
    "> Interactive lesson covering content from Collegeboard 3.9 and 3.11 made by students for students\n",
    "\n",
    "- layout: default\n",
    "- toc: true\n",
    "- badges: false\n",
    "- comments: true\n",
    "- permalink: /Lesson\n",
    "- categories: [lesson]"
   ]
  },
  {
   "cell_type": "markdown",
   "metadata": {},
   "source": [
    "# First Things First: WGET\n",
    "\n",
    "## Here's a quick how-to\n",
    "\n",
    "1. Open your VSCode terminal (`Terminal > New Terminal`)\n",
    "\n",
    "2. Navigate to your Fastpages Blog using `cd`\n",
    "\n",
    "3. Navigate to the `_notebooks` directory in your Fastpages\n",
    "\n",
    "4. Copy and paste this into the terminal: **wget https://raw.githubusercontent.com/Azeem-Khan1/TripleAJ/master/_notebooks/2022-12-06-lessonComplete.ipynb**\n",
    "\n",
    "5. You're all set! you can use this copy of our notebook to help you take notes and participate during the lesson\n",
    "\n",
    "    - Please raise your hand if you are having trouble with wget and we will come around and help you\n",
    "\n",
    "- Note: if you have a separate notebook that you take notes on and you also want to do your practice in that notebook, you can copy and paste cells from this notebook by left clicking next to any markdown or code cell (indicating that it is selected), do ctl+c or cmd+c, and go to the desired notebook and do ctl+v or cmd+v (if that doesn't work, try just c and v with no ctl or cmd)"
   ]
  },
  {
   "cell_type": "markdown",
   "metadata": {},
   "source": [
    "# 3.9 Developing Algorithms\n",
    "\n",
    "\n",
    "\n",
    "> AKSHAT PUT YOUR STUFF BETWEEN HERE AND THE NEXT SECTION ABOUT \"FLOWCHARTS\""
   ]
  },
  {
   "cell_type": "markdown",
   "metadata": {},
   "source": [
    "## Flowcharts (START OF AZEEM'S SECTION)\n",
    "- Flowcharts can help you visualize the functionality of an algorithm\n",
    "\n",
    "- They are a good way to double check whether or not your algorithm is achieving its purpose\n",
    "\n",
    "\n",
    "### How To Set Up A Flowchart\n",
    "1. label the start point\n",
    "\n",
    "2. Define any and all variables you may need\n",
    "\n",
    "3. Consider the first question you want the algorithm to ask\n",
    "\n",
    "4. Write what you want the algorithm to do if the answer to that question is yes (or true)\n",
    "\n",
    "5. Write what you want the algorithm to do if the answer to that question is no (or false)\n",
    "\n",
    "    * Steps 3-5 are the steps to creating code that uses a process called selection (you can convert the question from step 3 to a conditional if-statement in code)\n",
    "    <br>\n",
    "    <br>\n",
    "6. Write out all necessary steps for the algorithm to function properly\n",
    "\n",
    "7. You may want your algorithm to iterate some steps until a condition is met\n",
    "\n",
    "    * You can write the steps that need to be repeated, then draw an arrow from the last step to a step above that contains a conditional statement (*See [Example B](https://azeem-khan1.github.io/TripleAJ/Lesson#Example-B)*)\n",
    "    <br>\n",
    "    <br>\n",
    "8. determine a way to reach the end goal\n",
    "\n",
    "\n",
    "## Selection vs. Iteration\n",
    "\n",
    "## Example A\n",
    "- Consider this situation:\n",
    "    - You are shopping for your favorite food at your favorite supermarket\n",
    "    - You see that there is a sale on wheat products for 35% off\n",
    "    - There is another sale on produce for 20% off\n",
    "    - Tax on all items is 8%\n",
    "    - Your TASK: calculate the cost of your favorite item using an algorithm! (start out with a flowchart)\n",
    "\n",
    "## Example A Possible Solution (using a flowchart)\n",
    "\n",
    "\n",
    "![Flowchart for Example A](../images/3-9Lesson2ExampleAFlowchart.png)\n",
    "\n",
    "\n",
    "## Example B"
   ]
  }
 ],
 "metadata": {
  "kernelspec": {
   "display_name": "Python 3.9.12 ('base')",
   "language": "python",
   "name": "python3"
  },
  "language_info": {
   "codemirror_mode": {
    "name": "ipython",
    "version": 3
   },
   "file_extension": ".py",
   "mimetype": "text/x-python",
   "name": "python",
   "nbconvert_exporter": "python",
   "pygments_lexer": "ipython3",
   "version": "3.9.12"
  },
  "orig_nbformat": 4,
  "vscode": {
   "interpreter": {
    "hash": "ae7fc39f2ab8b5e6c06b0790456dedf53b90368befc1590efd56e212a30b3916"
   }
  }
 },
 "nbformat": 4,
 "nbformat_minor": 2
}
