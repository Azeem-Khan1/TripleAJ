{
 "cells": [
  {
   "cell_type": "markdown",
   "metadata": {},
   "source": [
    "# 3.9 and 3.11 Lesson\n",
    "> Interactive lesson covering content from Collegeboard 3.9 and 3.11 made by students for students\n",
    "\n",
    "- layout: default\n",
    "- toc: true\n",
    "- badges: false\n",
    "- comments: true\n",
    "- permalink: /Lesson\n",
    "- categories: [lesson]"
   ]
  },
  {
   "cell_type": "markdown",
   "metadata": {},
   "source": [
    "# First Things First: WGET\n",
    "\n",
    "- wget allows you to essentially clone someone elses file on Github into a directory of your choosing\n",
    "    - You are able to edit your own copy of the file without affecting the original\n",
    "\n",
    "## Here's a quick how-to\n",
    "\n",
    "1. Open your VSCode terminal (`Terminal > New Terminal`)\n",
    "\n",
    "2. Navigate to your Fastpages Blog using `cd`\n",
    "\n",
    "3. Navigate to the `_notebooks` directory in your Fastpages\n",
    "\n",
    "4. Copy and paste this into the terminal: **wget https://raw.githubusercontent.com/Azeem-Khan1/TripleAJ/master/_notebooks/2022-12-06-lessonComplete.ipynb**\n",
    "\n",
    "5. You're all set! you can use this copy of our notebook to help you take notes and participate during the lesson\n",
    "\n",
    "    - Please raise your hand if you are having trouble with wget and we will come around and help you\n",
    "\n",
    "- Note: if you have a separate notebook that you take notes on and you also want to do your practice in that notebook, you can copy and paste cells from this notebook by left clicking next to any markdown or code cell (indicating that it is selected), do ctl+c or cmd+c, and go to the desired notebook and do ctl+v or cmd+v (if that doesn't work, try just c and v with no ctl or cmd)"
   ]
  },
  {
   "cell_type": "markdown",
   "metadata": {},
   "source": [
    "# 3.9 Lesson\n",
    "## Defining Algorithms\n",
    "\n",
    "What is an algorithm?\n",
    "An algorithm is a process or set of rules to be followed through CODE. There are set limitations, this is what makes algorithms fun, you can your imagination and create whatever you wan with your own instructions!\n",
    "\n",
    "- Algorithms can be written in different ways and still accomplish the same tasks\n",
    "\n",
    "- Algorithms that appear similar can yield different side effects or results.\n",
    "\n",
    "- Some conditional statements can be written as the same as Boolean expressions (VICE VERSA)\n",
    "\n",
    "- Different algorithms can be developed or use dto solve the same problem. \n",
    "\n",
    "### Example 1 | What happens if we test it with 54 degrees?"
   ]
  },
  {
   "cell_type": "markdown",
   "metadata": {},
   "source": [
    "Record what your outputs are when you enter 54 and then 95, does the algorithm yield the same result?"
   ]
  },
  {
   "cell_type": "markdown",
   "metadata": {},
   "source": [
    "The conditional below is nested"
   ]
  },
  {
   "cell_type": "code",
   "execution_count": null,
   "metadata": {},
   "outputs": [],
   "source": [
    "temp = int(input(\"Select a temperature from 0 to 99 degrees F\"))\n",
    "if (temp >= 90):\n",
    "    print(\"It's too hot outside!\")\n",
    "else:\n",
    "    if (temp >= 65):\n",
    "        print(\"Sure I will play outside!\")\n",
    "    else: \n",
    "        print(\"It is too cold outside!\")\n",
    "# Input 54 and then 95, what do you notice?"
   ]
  },
  {
   "cell_type": "markdown",
   "metadata": {},
   "source": [
    "### Example 2 | What happens if we test 95 degrees?"
   ]
  },
  {
   "cell_type": "markdown",
   "metadata": {},
   "source": [
    "Record what your outputs are when you enter 54 and then 95, does the algorithm yield the same result this time?"
   ]
  },
  {
   "cell_type": "markdown",
   "metadata": {},
   "source": [
    "The condition below is not nested"
   ]
  },
  {
   "cell_type": "code",
   "execution_count": null,
   "metadata": {},
   "outputs": [],
   "source": [
    "temp = int(input(\"Select a temperature from 0 to 99 degrees F\"))\n",
    "if (temp >= 90):\n",
    "    print(\"It's too hot outside!\")\n",
    "if (temp >= 65):\n",
    "    print(\"Sure I will play outside?\")\n",
    "if (temp < 65):\n",
    "    print(\"It is too cold outside!\")\n",
    "    # Input 54 and then Input 95, what do you notice?"
   ]
  },
  {
   "cell_type": "markdown",
   "metadata": {},
   "source": [
    "Even though an algorithm's code can look the same, you have to be careful, they can always yield different results. When constructing algorithms you want to make sure that your code corresponds with what you want as your output. You set the limit of your code and you decide what the code's output is. "
   ]
  },
  {
   "cell_type": "markdown",
   "metadata": {},
   "source": [
    "## Conditionals vs. Booleans\n",
    "\n",
    "WRITE HERE"
   ]
  },
  {
   "cell_type": "markdown",
   "metadata": {},
   "source": [
    "### Example 3 | Conditionals vs Booleans"
   ]
  },
  {
   "cell_type": "markdown",
   "metadata": {},
   "source": [
    "The following algorithms are intended to sum the odd numbers from 1-9. Which algorithms work as intended?\n",
    "\n",
    "![f](../images/lesson9.png)"
   ]
  },
  {
   "cell_type": "markdown",
   "metadata": {},
   "source": [
    "### First block"
   ]
  },
  {
   "cell_type": "code",
   "execution_count": 12,
   "metadata": {},
   "outputs": [
    {
     "name": "stdout",
     "output_type": "stream",
     "text": [
      "36\n"
     ]
    }
   ],
   "source": [
    "sum = 1\n",
    "counter = 3\n",
    "#iteration\n",
    "var = 0 \n",
    "while (var <= 4): #while the var is <= 4, it executes those commands, once it exceeds it hits the else command\n",
    "    sum = sum + counter\n",
    "    counter = counter + 2\n",
    "    var = var + 1\n",
    "    # now go through the whole thing 4 times, this is an iteration, a vital part of algorithms.\n",
    "else:\n",
    "    print(sum)\n",
    "\n"
   ]
  },
  {
   "cell_type": "markdown",
   "metadata": {},
   "source": [
    "### Second block"
   ]
  },
  {
   "cell_type": "code",
   "execution_count": 14,
   "metadata": {},
   "outputs": [
    {
     "name": "stdout",
     "output_type": "stream",
     "text": [
      "0\n"
     ]
    }
   ],
   "source": [
    "sum = 0\n",
    "counter = 9\n",
    "#iteration\n",
    "while (counter < 1): #while the var is <= 4, it executes those commands, once it exceeds it hits the else command\n",
    "    sum = sum + counter\n",
    "    counter = counter - 2\n",
    "    # now go through the whole thing 4 times, this is an iteration, a vital part of algorithms.\n",
    "else:\n",
    "    print(sum)"
   ]
  },
  {
   "cell_type": "markdown",
   "metadata": {},
   "source": [
    "## Flowcharts\n",
    "- Flowcharts can help you visualize the functionality of an algorithm\n",
    "\n",
    "- They are a good way to double check whether or not your algorithm is achieving its purpose\n",
    "\n",
    "\n",
    "### How To Set Up A Flowchart\n",
    "1. label the start point\n",
    "\n",
    "2. Define any and all variables you may need\n",
    "\n",
    "3. Consider the first question you want the algorithm to ask\n",
    "\n",
    "4. Write what you want the algorithm to do if the answer to that question is yes (or true)\n",
    "\n",
    "5. Write what you want the algorithm to do if the answer to that question is no (or false)\n",
    "\n",
    "    * Steps 3-5 are the steps to creating code that uses a process called selection (you can convert the question from step 3 to a conditional if-statement in code)\n",
    "    <br>\n",
    "    <br>\n",
    "6. Write out all necessary steps for the algorithm to function properly\n",
    "\n",
    "7. You may want your algorithm to iterate some steps until a condition is met\n",
    "\n",
    "    * You can write the steps that need to be repeated, then draw an arrow from the last step to a step above that contains a conditional statement (*See [Example B](https://azeem-khan1.github.io/TripleAJ/Lesson#Example-B)*)\n",
    "    <br>\n",
    "    <br>\n",
    "8. determine a way to reach the end goal\n",
    "\n",
    "\n",
    "## Selection vs. Iteration\n",
    "\n",
    "- Selection:\n",
    "\n",
    "    - A process used in algorithms where a conditional if-statement leads to one of two outcomes\n",
    "        \n",
    "        - Outcome 1: if the conditional statement is true, something will happen\n",
    "        \n",
    "        - Outcome 2: if the conditional statement is false, something else will happen\n",
    "\n",
    "        - Ex: see [Example A](https://azeem-khan1.github.io/TripleAJ/Lesson#Example-A)\n",
    "\n",
    "- Iteration\n",
    "\n",
    "    - A process used in algorithms that allows certain things to happen until a condition is satisfied\n",
    "\n",
    "        - Once the condition is satisfied, then an outcome is produced\n",
    "\n",
    "        - This can take the form of a for-loop, while-loop, and/or if-statement\n",
    "\n",
    "\n",
    "## Example A\n",
    "- Consider this situation:\n",
    "\n",
    "    - You are shopping for your favorite food at your favorite supermarket\n",
    "\n",
    "    - You see that there is a sale on wheat products for 35% off\n",
    "    \n",
    "    - There is another sale on produce for 20% off\n",
    "    \n",
    "    - These sales are mutually exclusive\n",
    "    \n",
    "    - Tax on all items is 8%\n",
    "\n",
    "- Your TASK:\n",
    "\n",
    "    - Create a flowchart for an algorithm that can be used to calculate the cost of your favorite item\n",
    "\n",
    "\n",
    "## Example A Possible Solution (using Selection)\n",
    "\n",
    "\n",
    "![Flowchart for Example A](../images/3-9Lesson2ExampleAFlowchart.png)\n",
    "\n",
    "\n",
    "## Example B\n",
    "\n",
    "\n",
    "\n"
   ]
  },
  {
   "cell_type": "markdown",
   "metadata": {},
   "source": [
    "## Homework Assignment (DUE WEDNESDAY 12/07 BY 8:00 PM)\n",
    "\n",
    "- Consider this situation:\n",
    "\n",
    "    - You're playing a short game using a random number generator from 1 to 20\n",
    "\n",
    "        - On each turn, a player will generate 3 random numbers\n",
    "\n",
    "        - They get to keep the highest number that they generate as their score\n",
    "\n",
    "\n",
    "### Your TASK:\n",
    "    \n",
    "1. Create a flowchart that can be used to write an algorithm that calculates a player's score\n",
    "\n",
    "    - NOTE: Don't forget the [syntax for Flowcharts](https://wcs.smartdraw.com/flowchart/img/basic-symbols-table.jpg?bn=15100111857)! (each shape represents an action)\n",
    "\n",
    "    - Try to implement selection and/or iteration in your algorithm\n",
    "\n",
    "    - Please do this using Google Drawing. It can be found in your Google Drive if you click `New > More > Google Drawings`\n",
    "\n",
    "\n",
    "2. Write the working algorithm in Python\n",
    "\n",
    "    - You may use code block below that contains some hints/tips\n",
    "\n",
    "    - Make sure to initialize / define any variables you may need\n",
    "\n",
    "\n",
    "### How to submit:\n",
    "\n",
    "1. Make a shareable link to your Flowchart with commenting access through Google Drive's \"Share\" feature\n",
    "\n",
    "2. Make a comment with the link at the top of the code block that holds your algorithm (use `#` for comments in Python)\n",
    "\n",
    "3. Submit a link to your algorithm (with the commented link to Flowchart) [here](hwSubmission)\n",
    "\n",
    "### Grading\n",
    "\n",
    "- DUE WEDNESDAY 12/07 BY 8:00 PM\n",
    "\n",
    "- LATE PENALTY: -0.1\n",
    "\n",
    "- You will be graded based on:\n",
    "\n",
    "    - how functional your algorithm is\n",
    "\n",
    "    - how well your Flowchart is organized"
   ]
  },
  {
   "cell_type": "code",
   "execution_count": 24,
   "metadata": {},
   "outputs": [
    {
     "name": "stdout",
     "output_type": "stream",
     "text": [
      "18\n"
     ]
    }
   ],
   "source": [
    "# You can use these tips to write your algorithm\n",
    "\n",
    "import random # HINT: import the random module (this is used to generate a random number)\n",
    "\n",
    "var = random.randint(a, b) # this can assign a random integer between a and b to a variable\n"
   ]
  }
 ],
 "metadata": {
  "kernelspec": {
   "display_name": "Python 3.9.12 ('base')",
   "language": "python",
   "name": "python3"
  },
  "language_info": {
   "codemirror_mode": {
    "name": "ipython",
    "version": 3
   },
   "file_extension": ".py",
   "mimetype": "text/x-python",
   "name": "python",
   "nbconvert_exporter": "python",
   "pygments_lexer": "ipython3",
   "version": "3.9.12"
  },
  "orig_nbformat": 4,
  "vscode": {
   "interpreter": {
    "hash": "ae7fc39f2ab8b5e6c06b0790456dedf53b90368befc1590efd56e212a30b3916"
   }
  }
 },
 "nbformat": 4,
 "nbformat_minor": 2
}
